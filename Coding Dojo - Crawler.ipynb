{
 "cells": [
  {
   "cell_type": "markdown",
   "metadata": {},
   "source": [
    "# ☯ Coding Dojo ☯"
   ]
  },
  {
   "cell_type": "markdown",
   "metadata": {},
   "source": [
    "<img style=\"float:left\" src=\"imgs/vamos_coletar.png\">\n",
    "## Regras\n",
    "\n",
    "Ponto de participação, poderá perdido se:\n",
    "\n",
    "    - Aluno atrasado (ver política de atraso na especificação)\n",
    "    - Recusar participação como piloto/copiloto\n",
    "        - Ou não querer sair do computador, quando solicitado :-)\n",
    "    - Demorar para sair quando solicitado\n",
    "    - Parar de participar por:\n",
    "        - Uso de outro computador\n",
    "        - Uso de celular\n",
    "        - Usar a internet\n",
    "        - Conversa\n"
   ]
  },
  {
   "cell_type": "markdown",
   "metadata": {},
   "source": [
    "Antes de entregar, certifique-se que tenha executado todos os comandos/códigos deste Jupyter. É obrigatório que todas as saídas tenham sido apresentadas. Perda de 3 pontos caso não tenham feito isso."
   ]
  },
  {
   "cell_type": "markdown",
   "metadata": {},
   "source": [
    "# Dependencias"
   ]
  },
  {
   "cell_type": "markdown",
   "metadata": {},
   "source": [
    "Se necessário, instale o python3 e o pip3 abaixo usando `sudo apt-get install python3 python3-pip`.  Execute abaixo para instalar o [BeautifulSoup](https://www.crummy.com/software/BeautifulSoup/). Qualquer linha de comando/código como a de baixo, você pode executá-la a selecionando e pressionando `ctrl+enter` ❣️."
   ]
  },
  {
   "cell_type": "code",
   "execution_count": 1,
   "metadata": {},
   "outputs": [
    {
     "name": "stdout",
     "output_type": "stream",
     "text": [
      "Requirement already satisfied: bs4 in /home/thiago/.local/lib/python3.8/site-packages (0.0.1)\n",
      "Requirement already satisfied: beautifulsoup4 in /usr/lib/python3/dist-packages (from bs4) (4.8.2)\n"
     ]
    }
   ],
   "source": [
    "!pip3 install bs4"
   ]
  },
  {
   "cell_type": "markdown",
   "metadata": {},
   "source": [
    "Caso de comando não encontrado `pip3` use `pip`. "
   ]
  },
  {
   "cell_type": "markdown",
   "metadata": {},
   "source": [
    "# Coletor"
   ]
  },
  {
   "cell_type": "markdown",
   "metadata": {},
   "source": [
    "<img src=\"imgs/arquitetura_coletor.png\">"
   ]
  },
  {
   "cell_type": "markdown",
   "metadata": {},
   "source": [
    "Você deverá completar a implementação das três classes abaixo para fazer o coletor: `Domain`, `Scheduler` e `PageFetcher`. Conforme figura acima, o `Scheduler` é responsável por armazenar as filas de URLs a serem requisitadas; o PageFetcher serão *threads* responsáveis por fazer as requisições das URLs obtidas por meio do escalonador (instancia da classe `Scheduler`). A classe `Domain` armazena informações importantes sobre o servidor a serem usadas no momento do escalonamento das URLs."
   ]
  },
  {
   "cell_type": "markdown",
   "metadata": {},
   "source": [
    "## Classe `Domain`"
   ]
  },
  {
   "cell_type": "markdown",
   "metadata": {},
   "source": [
    "<figure style=\"text-align:center\">\n",
    "    <img src=\"imgs/estrutura_coletor.png\">\n",
    "    <caption>Fonte: Baeza-Yates e Ribeiro-Neto, 2011 </caption>\n",
    "</figure>"
   ]
  },
  {
   "cell_type": "markdown",
   "metadata": {},
   "source": [
    "Antes de começar a fazer o escalonador (classe `Scheduler`) devemos implementar a classe que representa os domínios. Conforme visto na figura acima, o escalonador possuirá diversas filas, uma para cada servidor.  Em nosso caso, o servidor será um domínio - que você irá implementar na classe `Domain` do arquivo `domain.py`. \n",
    "\n",
    "O escalonador percorrerá cada servidor e obterá o primeiro da fila do primeiro servidor acessível. O servidor é acessível obdecendo o limite de tempo entre requisições (em segundos, usando o atributo `int_time_limit_between_requests`). \n",
    "\n",
    "Nesta atividade você irá implementar a classe `Domain`, que já possui os seguintes atributos: \n",
    "\n",
    "- *int_time_limit_between_requests*: Limite entre requisições (int)\n",
    "- *nam_domain*: Nome do domínio (String)\n",
    "- *time_last_access*: [Objeto Datetime](https://docs.python.org/3/library/datetime.html#datetime-objects) informando da data/hora do último acesso \n",
    "\n",
    "O prefixo da variável sempre irá denotar o tipo da mesma."
   ]
  },
  {
   "cell_type": "markdown",
   "metadata": {},
   "source": [
    "**Atividade 1 - classe `Domain`**: Complete a classe `Domain` implementando os métodos/atributos calculados descritos a seguir. Logo após, execute o ❣️ teste unitário ❣️ para verificar se os métodos/atributos calculados foram implementados conforme esperado.\n",
    "\n",
    "- **accessed_now**: Método que modifica o último acesso com a data/hora atual usando um [objeto datetime](https://docs.python.org/3/library/datetime.html#datetime-objects)\n",
    "- **time_since_last_access**: Atributo calculado que retorna um [objeto TimeDelta](https://docs.python.org/3/library/datetime.html#timedelta-objects) com a diferença da data atual e a data do último acesso. Veja os exemplos de uso do TimeDelta na sua documentação\n",
    "- **is_accessible**: Método que verdadeiro se o domínio estiver acessível"
   ]
  },
  {
   "cell_type": "markdown",
   "metadata": {},
   "source": [
    "Os métodos `count_fetched_page` e `has_finished_crawl` já estão implementados. Execute o teste unitário a seguir. Veja que o comando abaixo executa o teste unitário presente no arquivo `crawler/scheduler_test.py`. Analise-o para entender como implementamos testes unitários."
   ]
  },
  {
   "cell_type": "code",
   "execution_count": 2,
   "metadata": {},
   "outputs": [
    {
     "output_type": "stream",
     "name": "stdout",
     "text": [
      "Verificando acesso a um dominio já requisitado (após espera)\n",
      "aguardando 10 segundos...\n",
      ".\n",
      "----------------------------------------------------------------------\n",
      "Ran 1 test in 10.004s\n",
      "\n",
      "OK\n"
     ]
    }
   ],
   "source": [
    "!python3 -m crawler.scheduler_test DomainTest.test_domain"
   ]
  },
  {
   "cell_type": "markdown",
   "metadata": {},
   "source": [
    "**Atividade 2 - métodos `__hash__` e `__eq__` da classe `Domain`**: A fila será implementada por um dicionario ordenado ([OrderedDict](https://docs.python.org/2/library/collections.html#collections.OrderedDict)) em que a chave será um objeto da classe domínio e o valor serão uma lista de URLs. Para que seja possível a busca do domínio, você deverá implementar os métodos `__hash__` e `__eq__` de forma similar ao seguinte exemplo: "
   ]
  },
  {
   "cell_type": "code",
   "execution_count": 3,
   "metadata": {},
   "outputs": [],
   "source": [
    "from collections import OrderedDict\n",
    "class Xuxu():\n",
    "    def __str__(self):\n",
    "        return \"xuxuuu\"\n",
    "    \n",
    "    def __hash__(self):\n",
    "        return hash(\"xuxu\")\n",
    "    def __eq__(self, x):\n",
    "        return x == \"xuxu\"\n",
    "d = OrderedDict()"
   ]
  },
  {
   "cell_type": "markdown",
   "metadata": {},
   "source": [
    "Em nosso caso, deve ser permitido fazer a busca no dicionario pelo nome do domínio ou pelo objeto, ou seja, após a implementação desta atividade, o seguinte código irá funcionar corretamente: "
   ]
  },
  {
   "cell_type": "code",
   "execution_count": 4,
   "metadata": {},
   "outputs": [
    {
     "output_type": "stream",
     "name": "stdout",
     "text": [
      "oi.com\noi\n"
     ]
    }
   ],
   "source": [
    "from crawler.domain import Domain\n",
    "from collections import OrderedDict\n",
    "\n",
    "obj_domain = Domain(\"oi.com\",10)\n",
    "dic_x = OrderedDict()\n",
    "dic_x[obj_domain] = \"lala\"\n",
    "dic_x[\"oi.com\"] = \"oi\"\n",
    "\n",
    "#abaixo, em ambos os casos, será encontrado/impresso a string \"oi\"\n",
    "print(\"oi.com\")\n",
    "print(dic_x[obj_domain])"
   ]
  },
  {
   "cell_type": "markdown",
   "metadata": {},
   "source": [
    "Lembre-se que, em nosso caso, o parametro do método `__eq__` pode ser um objeto da classe `Domain` ou uma string representando o nome do domínio. Caso faça alguma modificação no código, você deverá reiniciar o kernel para que o efeito seja visto no código acima (para reiniciar, clique em Kernel->Restart). Isso ocorre que, uma vez dado import em um módulo, esse modulo não é alterado no Jupyter caso você faça uma modificação no código."
   ]
  },
  {
   "cell_type": "markdown",
   "metadata": {},
   "source": [
    "## Classe `Scheduler`"
   ]
  },
  {
   "cell_type": "markdown",
   "metadata": {},
   "source": [
    "Agora você irá implementar o escalonador. Essa classe será responsável por gerenciar as URLs. \n",
    "Para isso, será implementado as filas por servidores conforme apresentado na figura da seção anterior. \n",
    "Para isso, utilizaremos um OrderedDict em que as chaves são os servidores (objeto da classe `Domain`) e o valor será uma lista de tuplas com as URLs e sua profundidade. Com o objetivo de armazenar as URLs de forma estruturada, as mesmas **não serão** string, ao invés disso, serão objetos da classe `ParseResult` - essa classe é retornada do método [urlparse](https://docs.python.org/3/library/urllib.parse.html). Veja um exemplo abaixo.\n",
    "\n"
   ]
  },
  {
   "cell_type": "code",
   "execution_count": 5,
   "metadata": {},
   "outputs": [
    {
     "output_type": "stream",
     "name": "stdout",
     "text": [
      "{www.globo.com: [(ParseResult(scheme='http', netloc='www.globo.com', path='/esporte', params='', query='', fragment=''), 1), (ParseResult(scheme='http', netloc='www.globo.com', path='/noticia_um', params='', query='', fragment=''), 2), (ParseResult(scheme='http', netloc='www.globo.com', path='/noticia_dois', params='', query='', fragment=''), 3), (ParseResult(scheme='http', netloc='www.globo.com', path='/noticia_tres', params='', query='', fragment=''), 3)], www.cnpq.br: [(ParseResult(scheme='http', netloc='www.cnpq.br', path='/pesquisadores', params='', query='', fragment=''), 1), (ParseResult(scheme='http', netloc='www.cnpq.br', path='/bolsas', params='', query='', fragment=''), 1)]}\n"
     ]
    }
   ],
   "source": [
    "from crawler.domain import Domain\n",
    "from crawler.scheduler import Scheduler\n",
    "from urllib.parse import urlparse\n",
    "\n",
    "dict_filas_por_servidor = {Domain(\"www.globo.com\",10):[\n",
    "                                                (urlparse(\"http://www.globo.com/esporte\"),1),\n",
    "                                                (urlparse(\"http://www.globo.com/noticia_um\"),2),\n",
    "                                                (urlparse(\"http://www.globo.com/noticia_dois\"),3),\n",
    "                                                (urlparse(\"http://www.globo.com/noticia_tres\"),3),\n",
    "                                                ],\n",
    "                            Domain(\"www.cnpq.br\",10):[(urlparse(\"http://www.cnpq.br/pesquisadores\"),1),\n",
    "                                               (urlparse(\"http://www.cnpq.br/bolsas\"),1)]\n",
    "                          }\n",
    "print(dict_filas_por_servidor)"
   ]
  },
  {
   "cell_type": "markdown",
   "metadata": {},
   "source": [
    "Assim, a classe `Scheduler`, no arquivo `scheduler.py` possui os seguintes atributos: \n",
    "\n",
    "- `str_usr_agent`: Nome do `User agent`. Usualmente, é o nome do navegador, em nosso caso,  será o nome do coletor (usualmente, terminado em `bot`)\n",
    "- `int_page_limit`: Número de páginas a serem coletadas\n",
    "- `int_depth_limit`: Profundidade máxima a ser coletada\n",
    "- `int_page_count`: Quantidade de página já coletada\n",
    "- `dic_url_per_domain`: Fila de URLs por domínio (explicado anteriormente)\n",
    "- `set_discovered_urls`: Conjunto de URLs descobertas, ou seja, que foi extraída em algum HTML e já adicionadas na fila - mesmo se já ela foi retirada da fila. A URL armazenada deve ser uma string.\n",
    "- `dic_robots_per_domain`: Dicionário armazenando, para cada domínio, o objeto representando as regras obtidas no `robots.txt`"
   ]
  },
  {
   "cell_type": "markdown",
   "metadata": {},
   "source": [
    "**Atividad 3 - Método `can_add_page`**: Esse método irá retornar verdadeiro caso seja possível adicionar a página `obj_url` (objeto da classe ParseResult) que foi coletada na profundidade `int_depth`. Para que seja possível adicionar na lista, esta pagina não deve ter sido descoberta e nem com a profundidade maior que o limite. Este método será testado por teste unitário apenas após a implementação da adição e obtenção das URLs."
   ]
  },
  {
   "cell_type": "markdown",
   "metadata": {},
   "source": [
    "**Atividade 4 método `add_new_page` - Adicionar nova página**:  Este método retorna falso caso não seja possível adicionar a página (por meio do método `can_add_page`) e verdadeiro, caso contrário. Caso seja possível, deve-se adicionar a url `obj_url` na fila `dic_url_per_domain`. Lembre-se da estrutura do dicionário `dic_url_per_domain`. Não esqueça de armazenar que esta URL já foi descoberta. Este método será testado por teste unitário apenas após a implementação da obtenção das URLs. Lembre-se de como trabalhar com [dicionários](https://daniel-hasan.github.io/cefet-web-grad/classes/python2/#mais-colecoes)"
   ]
  },
  {
   "cell_type": "markdown",
   "metadata": {},
   "source": [
    "**Atividade 5 método `get_next_url` - obtém a próxima URL da fila**: Este método retona uma tupla `url,profundade` da próxima URL a ser coletada por meio da fila `dic_url_per_domain` retirando este item da fila. Lembre-se que: \n",
    "    \n",
    "- Ele deverá retornar a primeira URL do primeiro servidor que estiver acessível. \n",
    "- Você deve indicar que o servidor foi acessado \n",
    "- Caso a fila deste servidor esteja vazia, elimine-o do dicionário\n",
    "- Caso não encontre a URL, [coloque a Thread para esperar](https://docs.python.org/2/library/time.html#time.sleep) e, logo após, procure novamente \n",
    "\n",
    "Logo após, você já pode executar o teste unitário para verificar se a obtenção e adição de URLs está correta. Caso haja algum problema, existem já alguns prints comentados no código, descomente-os para verificar se o fluxo está ocorrendo da forma correta. Você deverá entregar sem a exibição desses prints (caso contrário, perderá pontos)."
   ]
  },
  {
   "cell_type": "code",
   "execution_count": 6,
   "metadata": {},
   "outputs": [
    {
     "output_type": "stream",
     "name": "stdout",
     "text": [
      "Verificação da ordem das URLs...\n",
      "Resgatando a segunda página do mesmo dominio...\n",
      "Tempo esperado: 20 segundos\n",
      ".\n",
      "----------------------------------------------------------------------\n",
      "Ran 1 test in 20.004s\n",
      "\n",
      "OK\n"
     ]
    }
   ],
   "source": [
    "!python3 -m crawler.scheduler_test SchedulerTest.test_add_remove_page"
   ]
  },
  {
   "cell_type": "markdown",
   "metadata": {},
   "source": [
    "**Atividade 6 método `can_fetch_page`**: Este método deve retornar verdadeiro caso a url (Objeto `ParseResult`), passada como parâmetro, pode ser coletada de acordo com o `Robots.txt` do domínio. Para isso, você deve usar o [`RobotFileParser`](https://docs.python.org/3/library/urllib.robotparser.html) para requisitar a URL do `robots.txt` deste domínio. Por razões de performance, você só poderá requisitar o robots.txt uma única vez por domínio. Assim, use o `dic_robots_per_domain` apropriadamente. Execute o teste unitário abaixo para verificar seu funcionamento. "
   ]
  },
  {
   "cell_type": "code",
   "execution_count": 7,
   "metadata": {},
   "outputs": [
    {
     "output_type": "stream",
     "name": "stdout",
     "text": [
      ".\n----------------------------------------------------------------------\nRan 1 test in 0.826s\n\nOK\n"
     ]
    }
   ],
   "source": [
    "!python3 -m crawler.scheduler_test SchedulerTest.test_can_fetch"
   ]
  },
  {
   "cell_type": "markdown",
   "metadata": {},
   "source": [
    "**Atividade 7 - Inicialização das sementes no construtor**: No construtor da classe `Scheduler` você deve adicionar as páginas sementes na fila. Tais sementes são passadas pelo parametro `arr_urls_seeds` do construtor. "
   ]
  },
  {
   "cell_type": "code",
   "execution_count": 8,
   "metadata": {},
   "outputs": [
    {
     "output_type": "stream",
     "name": "stdout",
     "text": [
      ".\n----------------------------------------------------------------------\nRan 1 test in 0.000s\n\nOK\n"
     ]
    }
   ],
   "source": [
    "!python3 -m crawler.scheduler_test SchedulerTest.test_init"
   ]
  },
  {
   "cell_type": "markdown",
   "metadata": {},
   "source": [
    "Logo após, utize a anotação @synchronized aonde julgar necessário para transformar em ThreadSafe."
   ]
  },
  {
   "cell_type": "markdown",
   "metadata": {},
   "source": [
    "## PageFetcher"
   ]
  },
  {
   "cell_type": "markdown",
   "metadata": {},
   "source": [
    "**Atividade 8 - Efetuar a requisição - método `request_url`:** Neste método você irá fazer a requisição usando a api [requests](https://requests.readthedocs.io/en/master/). Além disso, deve-se informar no cabeçalho (em `User-Agent`) o nome do coletor. O método deverá retornar o conteúdo (em binário) apenas se o conteúdo for HTML (ver no cabeçalho da resposta o tipo do conteúdo). Caso não seja, ele deverá retornar nulo. "
   ]
  },
  {
   "cell_type": "code",
   "execution_count": 9,
   "metadata": {},
   "outputs": [
    {
     "output_type": "stream",
     "name": "stdout",
     "text": [
      ".\n----------------------------------------------------------------------\nRan 1 test in 0.851s\n\nOK\n"
     ]
    }
   ],
   "source": [
    "!python3 -m crawler.page_fetcher_test PageFetcherTest.test_request_url"
   ]
  },
  {
   "cell_type": "markdown",
   "metadata": {},
   "source": [
    "**Atividade 9 extração das URLs por meio do método `discover_links`**: A partir do conteúdo (texto em binário) `bin_str_content` deve-se extrair seus os links. O conteúdo esta em binário, pois, o BeautifulSoup, internamente, verifica o encoding por meio da [tag meta](https://www.w3schools.com/tags/att_meta_charset.asp) e converte para UTF8. A URL da página coletada é um objeto ParseResult `obj_url` que está na profundidade `int_depth`. \n",
    "\n",
    "Para cada URL extraída, você deverá retornar uma tupla com a URL (objeto ParseResult) e a sua profundidade. Utilize o comando `yield` para retornar essas tuplas. A profundidade é calculada de por meio de  `obj_url` e `int_depth`, conforme comentado em sala de aula. \n",
    "\n",
    "Para a extração dos links, use o [CSS Selector do BeautifulSoup](https://www.crummy.com/software/BeautifulSoup/bs4/doc/#css-selectors). Seletor CSS é uma expressão que define quais elementos HTML serão estilizados pelo CSS. No *Beatifulsoup* eles são usados para selecionar quais tags serão extraídas. Veja o exemplo de uso e brinque abaixo. Caso precise, veja aqui um pouco de seletores CSS: [slides de Web](https://fegemo.github.io/cefet-front-end/classes/css2/#outros-seletores), [documentação MDN](https://developer.mozilla.org/en-US/docs/Web/CSS/CSS_Selectors)."
   ]
  },
  {
   "cell_type": "code",
   "execution_count": 2,
   "metadata": {},
   "outputs": [],
   "source": [
    "from bs4 import BeautifulSoup\n",
    "\n"
   ]
  },
  {
   "cell_type": "code",
   "execution_count": 10,
   "metadata": {},
   "outputs": [
    {
     "output_type": "stream",
     "name": "stdout",
     "text": [
      "Simulação da extração de links da página http://www.pudim.com.br na profundidade nível 2...\n.\n----------------------------------------------------------------------\nRan 1 test in 0.001s\n\nOK\n"
     ]
    }
   ],
   "source": [
    "!python3 -m crawler.page_fetcher_test PageFetcherTest.test_discover_links"
   ]
  },
  {
   "cell_type": "markdown",
   "metadata": {},
   "source": [
    "**Atividade 10 - método que solicita uma nova URL**: Por meio do método `crawl_new_url` você deverá utilizar os métodos previamente implementados para:\n",
    "\n",
    "- Solicitar ao escalonador uma nova URL\n",
    "- Fazer a requisição e obter o resultado (em binário)\n",
    "- Caso a URL seja um HTML válido, imprima esta URL e extraia os seus links"
   ]
  },
  {
   "cell_type": "markdown",
   "metadata": {},
   "source": [
    "**Atividade 11 - método run**: Este método deve coletar páginas enquanto a coleta não foi finalizada"
   ]
  },
  {
   "cell_type": "markdown",
   "metadata": {},
   "source": [
    "**Atividade 12 - um pequeno teste para finalizar:** Use as sementes do seu grupo e crie abaixo um escalonador e 5 PageFetchers para extrair 30 páginas. Imprima também o tempo gasto total."
   ]
  },
  {
   "cell_type": "code",
   "execution_count": 1,
   "metadata": {
    "tags": [
     "outputPrepend"
    ]
   },
   "outputs": [
    {
     "output_type": "stream",
     "name": "stdout",
     "text": [
      "a/6734/godzilla-vs-kong?utm_source=UOL%20Home&utm_medium=UOL%20Home&utm_campaign=Carrossel-Home&utm_term=godzilla-vs-kong&utm_content=godzilla-vs-kong\n",
      "URL: https://play.uol.com.br/ficcao-cientifica/6773/mortal-kombat?utm_source=UOL%20Home&utm_medium=UOL%20Home&utm_campaign=Carrossel-Home&utm_term=Mortal-kombat&utm_content=Mortal-kombat\n",
      "URL: https://play.uol.com.br/drama/4302/o-conto-da-aia-legendado?utm_source=UOL%20Home&utm_medium=UOL%20Home&utm_campaign=Carrossel-Home&utm_term=o-conto-da-aia&utm_content=o-conto-da-aia\n",
      "URL: https://play.uol.com.br/drama/6020/cinquenta-tons-mais-escuros?utm_source=UOL%20Home&utm_medium=UOL%20Home&utm_campaign=Carrossel-Home&utm_term=cinquenta-tons-mais-escuros&utm_content=cinquenta-tons-mais-escuros#rmcl\n",
      "URL: https://play.uol.com.br/aventura/6295/mulher-maravilha-1984?utm_source=UOL%20Home&utm_medium=UOL%20Home&utm_campaign=Carrossel-Home&utm_term=mulher-maravilha-1984&utm_content=mulher-maravilha-1984\n",
      "URL: https://play.uol.com.br/drama/6067/velozes-e-furiosos-8?utm_source=UOL%20Home&utm_medium=UOL%20Home&utm_campaign=Carrossel-Home&utm_term=Velozes-e-furiosos&utm_content=Velozes-e-furiosos#rmcl\n",
      "URL: https://play.uol.com.br/entretenimento/6131/otalab?utm_source=UOL%20Home&utm_medium=UOL%20Home&utm_campaign=Carrossel-Home&utm_term=otalab&utm_content=otalab#rmcl\n",
      "URL: https://play.uol.com.br/reality-show/3251/de-ferias-com-o-ex-brasil?utm_source=UOL%20Home&utm_medium=UOL%20Home&utm_campaign=Carrossel-Home&utm_term=de-ferias-com-o-ex-brasil&utm_content=de-ferias-com-o-ex-brasil\n",
      "URL: https://play.uol.com.br/assine?utm_source=Home%20UOL&utm_medium=M%C3%ADdia%20Interna&utm_campaign=Carrossel-Home&utm_term=carrossel%20de%20conteudo&utm_content=Assine-7-dias-trial\n",
      "URL: http://noticias.uol.com.br/\n",
      "URL: https://economia.uol.com.br/cotacoes/bolsas/\n",
      "URL: https://economia.uol.com.br/cotacoes/cambio/\n",
      "URL: https://economia.uol.com.br/cotacoes/cambio/peso-argentina/\n",
      "URL: https://economia.uol.com.br/cotacoes/cambio/euro-uniao-europeia/\n",
      "URL: https://economia.uol.com.br/cotacoes/cambio/libra-esterlina-reino-unido/\n",
      "URL: https://www1.folha.uol.com.br/mercado/2021/07/em-meio-a-crise-hidrica-bolsonaro-descarta-volta-do-horario-de-verao.shtml\n",
      "URL: https://noticias.uol.com.br/ultimas-noticias/agencia-brasil/2021/07/06/casos-de-dengue-em-sao-paulo-sao-o-triplo-de-2020.htm\n",
      "URL: https://noticias.uol.com.br/cotidiano/ultimas-noticias/2021/07/06/casal-morre-apos-consumir-solvente-vendido-como-oleo-de-semente-de-abobora.htm\n",
      "URL: https://noticias.uol.com.br/cotidiano/ultimas-noticias/2021/07/06/cabeleireira-trans-e-morta-um-mes-apos-sofrer-ataque-transfobico-no-recife.htm\n",
      "URL: https://www1.folha.uol.com.br/equilibrioesaude/2021/07/brasil-pode-ter-apagao-de-dados-sobre-fatores-de-risco-para-a-saude.shtml\n",
      "URL: https://www.band.uol.com.br/noticias/acidente-entre-caminhao-guindaste-e-veiculos-deixa-morto-e-feridos-em-niteroi-16358326\n",
      "URL: https://noticias.uol.com.br/cotidiano/ultimas-noticias/2021/07/06/mulher-simula-dor-abdominal-e-denuncia-carcere-privado-suspeito-e-preso.htm\n",
      "URL: https://economia.uol.com.br/cotacoes/noticias/redacao/2021/07/06/fechamento-do-dolar.htm\n",
      "URL: http://clicklogger.rm.uol.com.br/?prd=78&grp=src:10;chn:0;cpg:homefooter_inglesp_201703;creative:homefooter_inglesp_201703;servico:INGLES;&msr=Cliques%20de%20Origem:1&oper=11&redir=http://fib.pucrs.br/?utm_source=portal-uol&utm_medium=vitrine-base&utm_campaign=karnal\n",
      "URL: http://clicklogger.rm.uol.com.br/?prd=78&grp=src:10;chn:0;cpg:homefooter_inglesp_201703;creative:homefooter_inglesp_201703;servico:INGLES;&msr=Cliques%20de%20Origem:1&oper=11&redir=http://fib.pucrs.br/?utm_source=portal-uol&utm_medium=vitrine-base&utm_campaign=karnal\n",
      "URL: https://conta-digital-gratis.onelink.me/mNiB/fef8cb9f\n",
      "URL: https://conta-digital-gratis.onelink.me/mNiB/fef8cb9f\n",
      "URL: http://clicklogger.rm.uol.com.br/?prd=16&grp=src:13;chn:0;cpg:linkfixo_homeuol_produtos;creative:uol-host-titulo&msr=Cliques%20de%20Origem:1&oper=11&redir=https://meunegocio.uol.com.br/criador-de-sites/\n",
      "URL: http://clicklogger.rm.uol.com.br/?prd=16&grp=src:13;chn:0;cpg:linkfixo_homeuol_produtos;creative:chamada-criador-gratis&msr=Cliques%20de%20Origem:1&oper=11&redir=https://meunegocio.uol.com.br/criador-de-sites/\n",
      "URL: http://clicklogger.rm.uol.com.br/?prd=940&grp=src:13;chn:0;cpg:BoxdeprodutosBP;creative:homeuol;&msr=Cliques%20de%20Origem:1&oper=11&redir=https://batepapo.uol.com.br/\n",
      "URL: http://clicklogger.rm.uol.com.br/?prd=940&grp=src:13;chn:0;cpg:BoxdeprodutosBP;creative:homeuol;&msr=Cliques%20de%20Origem:1&oper=11&redir=https://assine.uol.com.br/batepapo#rmcl\n",
      "URL: http://clicklogger.rm.uol.com.br/?prd=78&grp=src:10;chn:0;cpg:homefooter_inglesp_201703;creative:homefooter_inglesp_201703;servico:INGLES;&msr=Cliques%20de%20Origem:1&oper=11&redir=https://www.passeidireto.com/?utm_source=uol.com.br&utm_medium=produtos-do-uol\n",
      "URL: http://clicklogger.rm.uol.com.br/?prd=78&grp=src:10;chn:0;cpg:homefooter_inglesp_201703;creative:homefooter_inglesp_201703;servico:INGLES;&msr=Cliques%20de%20Origem:1&oper=11&redir=https://www.passeidireto.com/?utm_source=uol.com.br&utm_medium=produtos-do-uol\n",
      "URL: https://www.uol.com.br/universa/\n",
      "URL: https://www.uol.com.br/universa/noticias/redacao/2021/07/06/chupao-papai-e-mamae-69-o-que-a-geracao-z-acha-cringe-no-sexo.htm\n",
      "URL: https://www.uol.com.br/tilt/noticias/redacao/2021/07/06/como-mandar-nudes-com-seguranca-veja-3-conselhos-de-quem-manja.htm\n",
      "URL: https://www.uol.com.br/universa/noticias/redacao/2021/07/06/livro-nossos-corpos-por-nos-mesmas.htm\n",
      "URL: https://www.uol.com.br/universa/noticias/redacao/2021/07/06/mulheres-criam-movimento-para-prevenir-abuso-sexual-em-grupos-de-ayahuasca.htm \n",
      "URL: https://www.uol.com.br/vivabem/\n",
      "URL: https://www.uol.com.br/vivabem/noticias/redacao/2021/07/06/perder-de-5-a-10-do-peso-ja-melhora-saude-veja-beneficios-ao-emagrecer.htm\n",
      "URL: https://f5.folha.uol.com.br/viva-bem/2021/07/quanto-tempo-leva-para-ficar-fora-de-forma-ao-parar-de-se-exercitar.shtml\n",
      "URL: https://www.uol.com.br/vivabem/noticias/redacao/2021/07/06/ele-perdeu-10-kg-em-21-dias-veja-mudancas-na-dieta-e-os-treinos-em-casa.htm\n",
      "URL: https://www.uol.com.br/vivabem/noticias/redacao/2021/07/06/filho-de-malvino-salvador-esta-com-bronquiolite-entenda-a-causa-da-doenca.htm\n",
      "URL: https://www.uol.com.br/nossa/\n",
      "URL: https://www.uol.com.br/nossa/noticias/redacao/2021/07/06/robin-hood-idolo-de-traficantes-jesus-malverde-tem-ate-capela-no-mexico.htm\n",
      "URL: https://www.uol.com.br/nossa/noticias/rfi/2021/07/06/russia-e-franca-travam-nova-guerra-comercial-em-rotulos-de-champanhe.htm\n",
      "URL: https://www.uol.com.br/nossa/noticias/redacao/2021/07/06/gato-bravo-como-identificar-e-evitar-a-agressividade-dos-bichanos.htm\n",
      "URL: https://www.uol.com.br/nossa/noticias/redacao/2021/07/06/como-fazer-o-churrasco-render-sem-encher-linguica-especialistas-dao-dicas.htm\n",
      "URL: https://www.uol.com.br/carros\n",
      "URL: https://www.uol.com.br/carros/videos/2021/07/06/jeep-inedito-de-7-lugares-tem-interior-revelado-antes-da-estreia-assista.htm\n",
      "URL: https://www.uol.com.br/carros/noticias/redacao/2021/07/06/ocupantes-saem-ilesos-de-batida-apos-honda-civic-ser-dividido-ao-meio.htm\n",
      "URL: https://www.uol.com.br/tilt/\n",
      "URL: https://www.uol.com.br/tilt/noticias/redacao/2021/07/06/maior-explosao-solar-desde-2017-provoca-breve-apagao-de-radio-na-terra.htm\n",
      "URL: https://www.uol.com.br/tilt/noticias/redacao/2021/07/05/wi-fi-com-nome-esquisito-pode-desativar-internet-do-iphone-entenda.htm\n",
      "URL: https://www.uol.com.br/start/\n",
      "URL: https://www.uol.com.br/start/colunas/ggwp/2021/07/06/mobile-legends-x-wild-rift-uma-rivalidade-que-promete.htm\n",
      "URL: https://www.uol.com.br/start/ultimas-noticias/2021/07/06/valorant---melhores-buffs-e-piores-nerfs-do-episodio-3.htm\n",
      "URL: https://www.uol.com.br/ecoa/\n",
      "URL: https://www.uol.com.br/ecoa/ultimas-noticias/2021/07/06/produtora-abre-loja-de-trabalhos-manuais-e-ajuda-milhares-de-mulheres.htm\n",
      "URL: https://www.uol.com.br/ecoa/colunas/fred-di-giacomo/2021/07/06/que-os-brancos-falem-sobre-os-crimes-dos-brancos-sem-isso-o-pais-nao-muda.htm\n",
      "URL: https://www.uol.com.br/mov/\n",
      "URL: https://www.uol.com.br/play/videos/2021/07/05/entre-likes-flavia-calina.htm\n",
      "URL: https://www.uol.com.br/play/videos/2021/07/01/rir-pra-nao-chorar-a-humorista-dinah-moraes-conta-historia-de-quando-sem-querer-foi-parar-na-ala-psiquiatrica-de-um-hospital.htm\n",
      "URL: https://tab.uol.com.br\n",
      "URL: https://tab.uol.com.br/edicao/massacre-em-saudades/\n",
      "URL: https://tab.uol.com.br/noticias/redacao/2021/07/04/sou-como-o-tango-negra-e-teimosa-uma-cantora-brasileira-em-buenos-aires.htm\n",
      "URL: https://noticias.uol.com.br/colunas/juliana-dal-piva/2021/07/06/marcia-aguiar-fabricio-queiroz-vao-matar-rachadinha.htm\n",
      "URL: https://tvefamosos.uol.com.br/noticias/redacao/2021/07/05/cantor-sertanejo-kleber-da-dupla-com-kaue-morre.htm\n",
      "URL: https://www.uol.com.br/esporte/ultimas-noticias/2021/07/06/globo-conviveu-desde-2015-com-acusacoes-de-assedio-contra-cereto.htm\n",
      "URL: https://www.uol.com.br/vivabem/noticias/bbc/2021/07/05/ana-maria-braga-com-covid-por-que-se-infectar-apos-tomar-duas-doses-nao-significa-que-vacina-nao-funciona.htm\n",
      "URL: https://www.uol.com.br/vivabem/noticias/redacao/2021/07/06/variante-gamma-mutacoes-que-podem-ameacar-imunidade-sao-descobertas-no-am.htm\n",
      "URL: https://www.uol.com.br/universa/noticias/redacao/2021/07/05/caso-henry-monique-medeiros-dr-jairinho.htm\n",
      "URL: https://economia.uol.com.br/reportagens-especiais/agronegocio-etanol-de-milho-biocombustivel/\n",
      "URL: https://www.uol.com.br/esporte/olimpiadas/reportagens-especiais/corpo-de-atleta-pioneiro-do-strongman-no-brasil-marcos-ferrari-precisou-abrir-mao-da-moda-para-comprar-roupas-que-o-servissem/\n",
      "URL: https://economia.uol.com.br/reportagens-especiais/uol-lideres-bayer-malu-nachreiner/index.htm\n",
      "URL: http://clicklogger.rm.uol.com.br/?prd=939&grp=src:13;chn:0;cpg:Home_UOL_Academia&msr=Cliques%20de%20Origem:1&oper=11&redir=https://meunegocio.uol.com.br/\n",
      "URL: https://meunegocio.uol.com.br/criador-de-sites?utm_source=mkt-automation&utm_medium=email&utm_campaign=umn-camaleao1-criador\n",
      "URL: https://meunegocio.uol.com.br/loja-virtual?utm_source=mkt-automation&utm_medium=email&utm_campaign=UMN-LV-camaleao-1\n",
      "URL: http://clicklogger.rm.uol.com.br/?prd=915&grp=src:13;chn:0;cpg:camaleao_homeuol_uolesporteclube;link:Site&msr=Cliques%20de%20Origem:1&oper=11&redir=https://esporteclube.uol.com.br/\n",
      "URL: http://clicklogger.rm.uol.com.br/?prd=915&grp=src:10;chn:0;cpg:Link-home;creative:Link-home-uec;&msr=Cliques%20de%20Origem:1&oper=11&redir=https://esporteclube.uol.com.br/nba\n",
      "URL: http://clicklogger.rm.uol.com.br/?prd=915&grp=src:10;chn:0;cpg:Link-home;creative:Link-home-uec;&msr=Cliques%20de%20Origem:1&oper=11&redir=https://esporteclube.uol.com.br/champions-league\n",
      "URL: http://clicklogger.rm.uol.com.br/?prd=915&grp=src:10;chn:0;cpg:Link-home;creative:Link-home-uec;&msr=Cliques%20de%20Origem:1&oper=11&redir=https://esporteclube.uol.com.br/eiplus/brasileirao\n",
      "URL: https://esporteclube.uol.com.br/?utm_source=banner&utm_medium=barra-home&utm_campaign=barra-home&utm_term=barra-home\n",
      "URL: http://clicklogger.rm.uol.com.br/?prd=78&grp=src:10;chn:0;cpg:homefooter_ingles_2016;creative:homefooter_ingles_2016;servico:INGLES;&msr=Cliques%20de%20Origem:1&oper=11&redir=http://cursodeingles.uol.com.br/?cmpid=homefooter_ingles_2016\n",
      "URL: http://clicklogger.rm.uol.com.br/?prd=78&grp=src:10;chn:0;cpg:homefooter_ingles_20160715;creative:homefooter_ingles_20160715;servico:INGLES;&msr=Cliques%20de%20Origem:1&oper=11&redir=https://www.portaleducacao.com.br/curso-online-de-ingles-completo/p?utm_campaign=vitrine-uol-titulo&utm_medium=cpm&utm_source=midia-interna-uol0\n",
      "URL: http://clicklogger.rm.uol.com.br/?prd=78&grp=src:10;chn:0;cpg:homefooter_professor_201610;creative:homefooter_professor_201610;servico:INGLES;&msr=Cliques%20de%20Origem:1&oper=11&redir=http://fib.pucrs.br/?utm_source=portal-uol&utm_medium=vitrine-base&utm_campaign=institucional\n",
      "URL: http://clicklogger.rm.uol.com.br/?prd=78&grp=src:10;chn:0;cpg:homefooter_inglesp_201703;creative:homefooter_inglesp_201703;servico:INGLES;&msr=Cliques%20de%20Origem:1&oper=11&redir=http://fib.pucrs.br/?utm_source=portal-uol&utm_medium=vitrine-base&utm_campaign=institucional\n",
      "URL: http://clicklogger.rm.uol.com.br/?prd=78&grp=src:10;chn:0;cpg:homefooter_ingles_201611;creative:homefooter_ingles_201611;servico:INGLES;&msr=Cliques%20de%20Origem:1&oper=11&redir=https://www.portaleducacao.com.br/?utm_source=midia-interna-uol&utm_medium=cpm&utm_campaign=vitrine-uol-titulo\n",
      "URL: http://clicklogger.rm.uol.com.br/?prd=78&grp=src:10;chn:0;cpg:homefooter_ingles_20160715;creative:homefooter_ingles_20160715;servico:INGLES;&msr=Cliques%20de%20Origem:1&oper=11&redir=https://acasadoconcurseiro.com.br/concurso/1-000-questoes-cebraspe-pf-e-prf \n",
      "URL: http://clicklogger.rm.uol.com.br/?prd=78&grp=src:10;chn:0;cpg:homefooter_independencia_201609;creative:homefooter_independencia_201609;servico:INGLES;&msr=Cliques%20de%20Origem:1&oper=11&redir=https://www.portaleducacao.com.br/?utm_source=midia-interna-uol&utm_medium=cpm&utm_campaign=vitrine-uol-titulo\n",
      "URL: http://clicklogger.rm.uol.com.br/?prd=78&grp=src:10;chn:0;cpg:homefooter_ingles_201611;creative:homefooter_ingles_201611;servico:INGLES;&msr=Cliques%20de%20Origem:1&oper=11&redir=https://www.portaleducacao.com.br/?utm_campaign=vitrine-uol-titulo&utm_medium=cpm&utm_source=midia-interna-uol\n",
      "URL: http://sobreuol.noticias.uol.com.br/\n",
      "URL: http://sobreuol.noticias.uol.com.br/historia/\n",
      "URL: https://denuncia.uol.com.br/\n",
      "URL: https://sac.uol.com.br/#/atendimento-online\n",
      "URL: http://sobreuol.noticias.uol.com.br/imprensa/\n",
      "URL: https://sac.uol.com.br\n",
      "URL: https://sobreuol.noticias.uol.com.br/normas-de-seguranca-e-privacidade.html\n",
      "URL: https://sobreuol.noticias.uol.com.br/carreiras/\n",
      "URL: https://produtos.uol.com.br/\n",
      "URL: https://clicklogger.rm.uol.com.br/?prd=32&grp=src:13;chn:0;cpg:linkfixo_homeuol_rodape;creative:paravoce-pagbank&msr=Cliques%20de%20Origem:1&oper=11&redir=https://pagseguro.uol.com.br/conta-digital/conta-digital-gratis\n",
      "URL: https://checkout.uol.com.br/#/uol/0?promotion=PROMBKPEML01A\n",
      "URL: https://batepapo.uol.com.br/?utm_source=UOL_home_footer&utm_medium=link-fixo&utm_campaign=bp_UOL-home_footer&utm_content=bp\n",
      "URL: https://seguranca.uol.com.br/?utm_source=uol_home_footer&utm_medium=linkfixo_footer-seguranca&utm_campaign=linkfixo_footer-seguranca&utm_content=seguranca-digital\n",
      "URL: https://familiaprotegida.uol.com.br/?utm_source=uol_home_footer&utm_medium=linkfixo_footer-fp&utm_campaign=linkfixo_footer-fp&utm_content=familia_protegida\n",
      "URL: https://universinho.uol.com.br/?utm_source=uol.com.br_home_footer&utm_medium=link-fixo&utm_campaign=footer_universinho&utm_content=universinho\n",
      "URL: https://play.uol.com.br/?utm_source=uol.com.br&utm_medium= UOLHome &utm_campaign=linkfixo_rodapel&utm_term=rodape-uolplay&utm_content=rodape-uolplay\n",
      "URL: http://clicklogger.rm.uol.com.br/?prd=938&grp=src:13;chn:0;cpg:uol-home_rodapé;creative:Leia_Mais;&msr=Cliques%20de%20Origem:1&oper=11&redir=https://leiamais.uol.com.br\n",
      "URL: http://clicklogger.rm.uol.com.br/?prd=915&grp=src:13;chn:0;cpg:linkfixo_home2018_rodape;creative:paravoce-esporteclube&msr=Cliques%20de%20Origem:1&oper=11&redir=https://esporteclube.uol.com.br/\n",
      "URL: http://clicklogger.rm.uol.com.br/?prd=57&grp=src:13;chn:0;cpg:linkfixo_home2020_rodape;creative:footerclubeuol&msr=Cliques%20de%20Origem:1&oper=11&redir=https://clube.uol.com.br/\n",
      "URL: http://clicklogger.rm.uol.com.br/?prd=914&grp=src:13;chn:0;cpg:linkfixo_homeuol_rodape;creative:paravoce-resolve&msr=Cliques%20de%20Origem:1&oper=11&redir=http://resolve.uol.com.br/\n",
      "URL: http://clicklogger.rm.uol.com.br/?prd=247&grp=src:13;chn:0;cpg:linkfixo_homeuol_rodape;creative:paravoce-uolsexo&msr=Cliques%20de%20Origem:1&oper=11&redir=http://sexo.uol.com.br/prive/\n",
      "URL: http://clicklogger.rm.uol.com.br/?prd=4&grp=src:13;chn:0;cpg:linkfixo_homeuol_rodape;creative:paravoce-wifi&msr=Cliques%20de%20Origem:1&oper=11&redir=http://wifi.uol.com.br/\n",
      "URL: https://clicklogger.rm.uol.com.br/?prd=22&grp=src:13;chn:0;cpg:linkfixo_homeuol_rodape;creative:paravoce-assistencia&msr=Cliques%20de%20Origem:1&oper=11&redir=https://assistenciatecnica.uol.com.br/\n",
      "URL: https://clicklogger.rm.uol.com.br/?prd=3&grp=src:13;chn:0;cpg:linkfixo_homeuol_rodape;creative:paravoce-lojadejogos&msr=Cliques%20de%20Origem:1&oper=11&redir=https://jogos.uol.com.br/loja/\n",
      "URL: https://economia.uol.com.br/mais/assine?utm_source=home-uol.com.br-rodape&utm_medium=UOLHome&utm_campaign=linkfixo_rodape&utm_term=uol-home-rodape-economiamais&utm_content=uol-home-rodape-economiamais\n",
      "URL: https://www.portaleducacao.com.br/curso-online-de-ingles-completo/p?utm_source=uol&utm_medium=rodape-menu&utm_campaign=cursos\n",
      "URL: https://www.portaleducacao.com.br/cursos?utm_source=uol&utm_medium=header-menu&utm_campaign=cursos\n",
      "URL: https://clicklogger.rm.uol.com.br/?prd=16&grp=src:13;chn:0;cpg:linkfixo_home2015_rodape;creative:paranegocio-titulo&msr=Cliques%20de%20Origem:1&oper=11&redir=https://uolhost.uol.com.br/\n",
      "URL: https://www.uol.com.br/adlab\n",
      "URL: http://clicklogger.rm.uol.com.br/?prd=16&grp=src:13;chn:0;cpg:linkfixo_homeuol_rodape;creative:paranegocio-cloudcomputing&msr=Cliques%20de%20Origem:1&oper=11&redir=https://www.uolhost.uol.com.br/uol-cloud-computing.html\n",
      "URL: http://clicklogger.rm.uol.com.br/?prd=16&grp=src:13;chn:0;cpg:linkfixo_homeuol_rodape;creative:paranegocio-criarblog&msr=Cliques%20de%20Origem:1&oper=11&redir=https://uolhost.uol.com.br/crie-seu-blog.html\n",
      "URL: http://clicklogger.rm.uol.com.br/?prd=939&grp=src:13;chn:0;cpg:linkfixo_homeuol_rodape;creative:paranegocio-criadordesites&msr=Cliques%20de%20Origem:1&oper=11&redir=https://meunegocio.uol.com.br/criador-de-sites/\n",
      "URL: http://clicklogger.rm.uol.com.br/?prd=939&grp=src:13;chn:0;cpg:linkfixo_homeuol_rodape;creative:paranegocio-lojavirtual&msr=Cliques%20de%20Origem:1&oper=11&redir=https://meunegocio.uol.com.br/loja-virtual/\n",
      "URL: http://clicklogger.rm.uol.com.br/?prd=939&grp=src:13;chn:0;cpg:linkfixo_homeuol_rodape;creative:paranegocio-academiauolmeunegocio&msr=Cliques%20de%20Origem:1&oper=11&redir=https://meunegocio.uol.com.br/academia/\n",
      "URL: http://clicklogger.rm.uol.com.br/?prd=939&grp=src:13;chn:0;cpg:linkfixo_homeuol_rodape;creative:paranegocio-emailmarketing&msr=Cliques%20de%20Origem:1&oper=11&redir=https://meunegocio.uol.com.br/e-mail-marketing/\n",
      "URL: http://clicklogger.rm.uol.com.br/?prd=939&grp=src:13;chn:0;cpg:linkfixo_homeuol_rodape;creative:paranegocio-emailprofissional&msr=Cliques%20de%20Origem:1&oper=11&redir=https://meunegocio.uol.com.br/e-mail/\n",
      "URL: http://clicklogger.rm.uol.com.br/?prd=16&grp=src:13;chn:0;cpg:linkfixo_homeuol_rodape;creative:paranegocio-hospedagem&msr=Cliques%20de%20Origem:1&oper=11&redir=https://uolhost.uol.com.br/hospedagem-de-sites.html\n",
      "URL: https://clicklogger.rm.uol.com.br/?prd=32&grp=src:13;chn:0;cpg:linkfixo_homeuol_rodape;creative:paranegocio-moderninha&msr=Cliques%20de%20Origem:1&oper=11&redir=https://pagseguro.uol.com.br/para-seu-negocio/presencial/moderninha-wifi\n",
      "URL: https://clicklogger.rm.uol.com.br/?prd=32&grp=src:13;chn:0;cpg:linkfixo_homeuol_rodape;creative:paranegocio-pagseguro&msr=Cliques%20de%20Origem:1&oper=11&redir=https://pagseguro.uol.com.br/\n",
      "URL: http://clicklogger.rm.uol.com.br/?prd=939&grp=src:13;chn:0;cpg:linkfixo_homeuol_rodape;creative:paranegocio-dominios&msr=Cliques%20de%20Origem:1&oper=11&redir=https://meunegocio.uol.com.br/registro-de-dominio/\n",
      "URL: http://aplicativos.uol.com.br/\n",
      "URL: http://aplicativos.uol.com.br/\n",
      "URL: http://aplicativos.uol.com.br/\n",
      "URL: http://aplicativos.uol.com.br/\n",
      "URL: http://aplicativos.uol.com.br/\n",
      "URL: http://aplicativos.uol.com.br/\n",
      "URL: http://aplicativos.uol.com.br/\n",
      "URL: https://produtos.uol.com.br/appmeuuol\n",
      "URL: http://noticias.uol.com.br/home-compartilhe/facebook.htm\n",
      "URL: http://noticias.uol.com.br/home-compartilhe/twitter.htm\n",
      "URL: http://noticias.uol.com.br/home-compartilhe/instagram.htm\n",
      "URL: http://noticias.uol.com.br/erratas/\n",
      "URL: https://www.uol.com.br/\n",
      "URL: https://sobreuol.noticias.uol.com.br/normas-de-seguranca-e-privacidade.html\n",
      "URL: https://www.uol.com.br/\n",
      "Tempo gasto: 0.34319114685058594\n"
     ]
    }
   ],
   "source": [
    "import time\n",
    "from multiprocessing import Process\n",
    "from urllib.parse import urlparse\n",
    "\n",
    "from crawler.page_fetcher import PageFetcher\n",
    "from crawler.scheduler import Scheduler\n",
    "\n",
    "\n",
    "def test():\n",
    "    inicio = time.time()  # inicio do tempo execução\n",
    "    sites = ('https://www.uol.com.br', 'https://www.uai.com.br', 'https://www.terra.com.br', 'https://www.bbc.com',\n",
    "             'https://www.g1.globo.com', 'https://www.tecmundo.com.br', 'https://www.olhardigital.com.br',\n",
    "             'https://www.estadao.com.br', 'https://www.em.com.br')\n",
    "    depth_limit = 3  # limite de profundidade\n",
    "    page_limit = 30  # limite das páginas\n",
    "\n",
    "    sites_parsed = [urlparse(site) for site in sites]\n",
    "    escalonador = Scheduler('amarelaoBot', page_limit, depth_limit, sites_parsed)\n",
    "    # Scheduler(self, str_usr_agent, int_page_limit, int_depth_limit, arr_urls_seeds):\n",
    "\n",
    "    # instanciando o array de page fetcher\n",
    "    page_fetchers = [PageFetcher(escalonador) for _ in range(5)]\n",
    "\n",
    "    # inicializando cada um dos processos\n",
    "    processos = []\n",
    "    for fetcher in page_fetchers:\n",
    "        p = Process(target=fetcher.run())\n",
    "        p.start()\n",
    "        processos.append(p)\n",
    "\n",
    "    # Finalizando os processos\n",
    "    for processo in processos:\n",
    "        processo.join()\n",
    "    fim = time.time()\n",
    "    print(f'Tempo gasto: {fim - inicio}')\n",
    "\n",
    "\n",
    "if __name__ == '__main__':\n",
    "    test()"
   ]
  },
  {
   "cell_type": "markdown",
   "metadata": {},
   "source": [
    "# Bibliografia\n",
    "\n",
    "Baeza-Yates, Ricardo; Ribeiro-Neto, Berthier. **Modern information retrieval: the concepts and technology behind search**. ACM Press, 2011.\n",
    "\n",
    "Batista, Natércia ; Brandão, Michele ; Pinheiro, Michele ; Dalip, Daniel ; Moro, Mirella . **[Dados de Múltiplas Fontes da Web: coleta, integração e pré-processamento](https://sol.sbc.org.br/livros/index.php/sbc/catalog/download/8/19/58-1?inline=1)**. Minicursos do XXIV Simpósio Brasileiro de Sistemas Multimídia e Web. 1ed.: Sociedade Brasileira de Computação, 2018, v. , p. 153-192."
   ]
  }
 ],
 "metadata": {
  "interpreter": {
   "hash": "31f2aee4e71d21fbe5cf8b01ff0e069b9275f58929596ceb00d14d90e3e16cd6"
  },
  "kernelspec": {
   "name": "python3",
   "display_name": "Python 3.8.2 64-bit"
  },
  "language_info": {
   "codemirror_mode": {
    "name": "ipython",
    "version": 3
   },
   "file_extension": ".py",
   "mimetype": "text/x-python",
   "name": "python",
   "nbconvert_exporter": "python",
   "pygments_lexer": "ipython3",
   "version": "3.8.2"
  }
 },
 "nbformat": 4,
 "nbformat_minor": 2
}